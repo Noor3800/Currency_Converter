{
  "cells": [
    {
      "cell_type": "code",
      "execution_count": 11,
      "metadata": {
        "id": "rpMfsQdHTxJH"
      },
      "outputs": [],
      "source": [
        "import requests"
      ]
    },
    {
      "cell_type": "code",
      "execution_count": 29,
      "metadata": {
        "id": "DQYXydfUjCcV"
      },
      "outputs": [],
      "source": [
        "def convert_curr():\n",
        "  #url = \"http://api.exchangeratesapi.io/v1/latest?access_key=6a69e76931468c0c738b0052ead8c4bd\"\n",
        "  url = \"http://api.exchangeratesapi.io/v1/latest?access_key=4934b637a9d8ec71bf794ec02c3018e4\"\n",
        "\n",
        "  try:\n",
        "    response = requests.get(url)\n",
        "    response.raise_for_status()\n",
        "    data = response.json()\n",
        "\n",
        "    if not data.get(\"success\"):\n",
        "      print(\"API error:\", data.get(\"error\", {}).get(\"info\", \"Unknown error\"))\n",
        "      return\n",
        "\n",
        "    from_currency = input(\"Enter the currency code you want to convert FROM (e.g., USD, PKR, GBP, TRY): \").upper()\n",
        "    to_currency = input(\"Enter the target currency code (e.g., PKR, GBP, TRY, USD): \").upper()\n",
        "\n",
        "    try:\n",
        "      amount = float(input(\"Enter the amount: \"))\n",
        "    except ValueError:\n",
        "      print(\"The amount needs to be numeric\")\n",
        "      return\n",
        "\n",
        "    try:\n",
        "      from_rate = data[\"rates\"][from_currency]\n",
        "      to_rate = data[\"rates\"][to_currency]\n",
        "    except KeyError:\n",
        "      print(\"Invalid currency code\")\n",
        "      return\n",
        "\n",
        "\n",
        "    result = amount * (to_rate / from_rate)\n",
        "    print(f\"{amount} {from_currency}  = {result:.2f} {to_currency}\")\n",
        "\n",
        "  except requests.exceptions.RequestException as e:\n",
        "    print(\"Network or API error:\", e)\n"
      ]
    },
    {
      "cell_type": "code",
      "execution_count": 30,
      "metadata": {
        "colab": {
          "base_uri": "https://localhost:8080/"
        },
        "id": "lY5xpFo5jCY4",
        "outputId": "2a361b7d-c978-41c7-ace4-39e92fdfbd5f"
      },
      "outputs": [
        {
          "name": "stdout",
          "output_type": "stream",
          "text": [
            "Enter the currency code you want to convert FROM (e.g., USD, PKR): USD\n",
            "Enter the target currency code (e.g., PKR, GBP, TRY): PKR\n",
            "Enter the amount: 20\n",
            "20.0 USD  = 5674.06 PKR\n"
          ]
        }
      ],
      "source": [
        "if __name__ == \"__main__\":\n",
        "    convert_curr()"
      ]
    }
  ],
  "metadata": {
    "colab": {
      "provenance": []
    },
    "kernelspec": {
      "display_name": "Python 3",
      "name": "python3"
    },
    "language_info": {
      "name": "python"
    }
  },
  "nbformat": 4,
  "nbformat_minor": 0
}
